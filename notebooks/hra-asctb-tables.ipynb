{
 "cells": [
  {
   "cell_type": "markdown",
   "metadata": {},
   "source": [
    "# Getting HRA ASCT+B Table data\n"
   ]
  },
  {
   "cell_type": "code",
   "execution_count": 81,
   "metadata": {},
   "outputs": [
    {
     "name": "stdout",
     "output_type": "stream",
     "text": [
      "Requirement already satisfied: requests in /home/bherr/workspaces/hubmap/hra-notebooks/.venv/lib/python3.10/site-packages (2.32.3)\n",
      "Requirement already satisfied: charset-normalizer<4,>=2 in /home/bherr/workspaces/hubmap/hra-notebooks/.venv/lib/python3.10/site-packages (from requests) (3.3.2)\n",
      "Requirement already satisfied: idna<4,>=2.5 in /home/bherr/workspaces/hubmap/hra-notebooks/.venv/lib/python3.10/site-packages (from requests) (3.10)\n",
      "Requirement already satisfied: certifi>=2017.4.17 in /home/bherr/workspaces/hubmap/hra-notebooks/.venv/lib/python3.10/site-packages (from requests) (2024.8.30)\n",
      "Requirement already satisfied: urllib3<3,>=1.21.1 in /home/bherr/workspaces/hubmap/hra-notebooks/.venv/lib/python3.10/site-packages (from requests) (2.0.7)\n"
     ]
    }
   ],
   "source": [
    "# Install pre-requisite libraries\n",
    "!pip install requests"
   ]
  },
  {
   "cell_type": "markdown",
   "metadata": {},
   "source": [
    "## Imports / functions\n"
   ]
  },
  {
   "cell_type": "code",
   "execution_count": 82,
   "metadata": {},
   "outputs": [],
   "source": [
    "import requests\n",
    "import json\n",
    "\n",
    "\n",
    "def fetch_json(purl):\n",
    "    response = requests.get(purl, headers={\"Accept\": \"application/json\"})\n",
    "    return json.loads(response.text)\n",
    "\n",
    "\n",
    "def is_asctb_table(purl):\n",
    "    return (\n",
    "        purl.startswith(\"https://purl.humanatlas.io/asct-b/\")\n",
    "        and \"crosswalk\" not in purl\n",
    "    )\n",
    "\n",
    "\n",
    "def get_latest_asctb_data():\n",
    "    hra_collection = fetch_json(\"https://purl.humanatlas.io/collection/hra\")\n",
    "    digital_objects = hra_collection[\"metadata\"][\"had_member\"]\n",
    "    tables = {}\n",
    "    for purl in sorted(filter(is_asctb_table, digital_objects)):\n",
    "        table_name = purl.split(\"/\")[-2]\n",
    "        table_data = fetch_json(purl)\n",
    "        table_rows = table_data[\"data\"][\"asctb_record\"]\n",
    "        tables[table_name] = table_rows\n",
    "    return tables"
   ]
  },
  {
   "cell_type": "markdown",
   "metadata": {},
   "source": [
    "## Get the latest HRA ASCT+B table data\n"
   ]
  },
  {
   "cell_type": "code",
   "execution_count": 83,
   "metadata": {},
   "outputs": [
    {
     "name": "stdout",
     "output_type": "stream",
     "text": [
      "Fetched 33 ASCT+B tables\n"
     ]
    }
   ],
   "source": [
    "tables = get_latest_asctb_data()\n",
    "print(\"Fetched\", len(tables), \"ASCT+B tables\")"
   ]
  },
  {
   "cell_type": "markdown",
   "metadata": {},
   "source": [
    "## Inspect the Kidney table\n"
   ]
  },
  {
   "cell_type": "code",
   "execution_count": 84,
   "metadata": {},
   "outputs": [
    {
     "name": "stdout",
     "output_type": "stream",
     "text": [
      "The kidney table has 78 rows\n"
     ]
    }
   ],
   "source": [
    "kidney = tables[\"kidney\"]\n",
    "print(\"The kidney table has\", len(kidney), \"rows\")"
   ]
  },
  {
   "cell_type": "code",
   "execution_count": 85,
   "metadata": {},
   "outputs": [
    {
     "name": "stdout",
     "output_type": "stream",
     "text": [
      "1st Row of Kidney Table\n",
      "\n",
      "Anatomical Structures:\n",
      "['UBERON:0002113 (kidney)', 'UBERON:0002015 (kidney capsule)']\n",
      "\n",
      "Cell Types:\n",
      "['CL:0000499 (stromal cell)', 'ASCTB-TEMP:capsule-mesenchymal-stromal-cell (capsule mesenchymal stromal cell)']\n",
      "\n",
      "Gene Biomarkers:\n",
      "['HGNC:3802 (Foxd1)', 'HGNC:1975 (VSX2)']\n",
      "\n",
      "References:\n",
      "['https://doi.org/10.1371/journal.pone.0187118']\n"
     ]
    }
   ],
   "source": [
    "\n",
    "def format_term(str):\n",
    "    return str.replace(\"https://purl.org/ccf/ASCTB-TEMP_\", \"ASCTB-TEMP:\")\n",
    "\n",
    "\n",
    "def simple_list(elts):\n",
    "    return [f'{format_term(x[\"source_concept\"])} ({x[\"ccf_pref_label\"]})' for x in elts]\n",
    "\n",
    "\n",
    "print(\"1st Row of Kidney Table\")\n",
    "record = kidney[0]\n",
    "\n",
    "print(\"\\nAnatomical Structures:\")\n",
    "print(simple_list(record[\"anatomical_structure_list\"]))\n",
    "\n",
    "print(\"\\nCell Types:\")\n",
    "print(simple_list(record[\"cell_type_list\"]))\n",
    "\n",
    "print(\"\\nGene Biomarkers:\")\n",
    "print(simple_list(record.get(\"gene_marker_list\", [])))\n",
    "\n",
    "print(\"\\nReferences:\")\n",
    "print(record[\"references\"])"
   ]
  }
 ],
 "metadata": {
  "kernelspec": {
   "display_name": ".venv",
   "language": "python",
   "name": "python3"
  },
  "language_info": {
   "codemirror_mode": {
    "name": "ipython",
    "version": 3
   },
   "file_extension": ".py",
   "mimetype": "text/x-python",
   "name": "python",
   "nbconvert_exporter": "python",
   "pygments_lexer": "ipython3",
   "version": "3.10.12"
  }
 },
 "nbformat": 4,
 "nbformat_minor": 2
}
