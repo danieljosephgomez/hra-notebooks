{
 "cells": [
  {
   "cell_type": "code",
   "execution_count": 16,
   "id": "e449adbd",
   "metadata": {},
   "outputs": [],
   "source": [
    "# linked datasets\n",
    "uuids = ['9b99c75de2347b9567e33065108488e8', '74e09cbb91aba06b48429651cb388940', '2c84a86ab51ec3a1168d8ba573d32c0a', '13d882fbeae970f8fb08a6f0b76bf127', '0bcea0ab24e8bc5b0529b6f4d899ddad', '35234b5e3eda236bb80ef3722da366f7', '51bc718e411810044e4258dae80ff044', '634511b7c63c16cfb51dc867c65cfc91', 'f88e96675a3215474570083edad66e0c', '6cd657565c709c832300336899a1e1ec', '32b783576b6c88fec03f5e5988e3effa', '55452bd302046918eaeeffa62c5b5f03', '79f8c7ec1b200dfe5b46d0bcfec02bd7', '1b5c7d45cb0e475b73f9280d092d34a5', '51bfd85763954248725ebf69f0dde5eb', 'a6bfa5ab516fcc24137cdd3ce3971e2c', 'c6c0cca1d093fcdb8d72bd18053a7940', 'aece0d5303d9ce959cdab34a9e9f3003']"
   ]
  },
  {
   "cell_type": "code",
   "execution_count": null,
   "id": "9cc556c5-1bad-49f1-8c50-ada5f70208ab",
   "metadata": {},
   "outputs": [],
   "source": [
    "!pip install cwltool cwlref-runner"
   ]
  },
  {
   "cell_type": "code",
   "execution_count": null,
   "id": "593f9952-2096-4f77-b0dc-76c46ef4b09b",
   "metadata": {},
   "outputs": [],
   "source": [
    "!cwl-runner --singularity \"https://raw.githubusercontent.com/hubmapconsortium/hra-workflows/main/containers/azimuth/download-data.cwl\"\n"
   ]
  },
  {
   "cell_type": "code",
   "execution_count": 25,
   "id": "ec9ecb53-4cdc-4737-9e83-81201275716e",
   "metadata": {
    "scrolled": true
   },
   "outputs": [
    {
     "data": {
      "text/plain": [
       "['datasets/0bcea0ab24e8bc5b0529b6f4d899ddad/expr.h5ad',\n",
       " 'datasets/13d882fbeae970f8fb08a6f0b76bf127/expr.h5ad',\n",
       " 'datasets/1b5c7d45cb0e475b73f9280d092d34a5/expr.h5ad',\n",
       " 'datasets/2c84a86ab51ec3a1168d8ba573d32c0a/expr.h5ad',\n",
       " 'datasets/32b783576b6c88fec03f5e5988e3effa/expr.h5ad',\n",
       " 'datasets/35234b5e3eda236bb80ef3722da366f7/expr.h5ad',\n",
       " 'datasets/51bc718e411810044e4258dae80ff044/expr.h5ad',\n",
       " 'datasets/51bfd85763954248725ebf69f0dde5eb/expr.h5ad',\n",
       " 'datasets/55452bd302046918eaeeffa62c5b5f03/expr.h5ad',\n",
       " 'datasets/634511b7c63c16cfb51dc867c65cfc91/expr.h5ad',\n",
       " 'datasets/6cd657565c709c832300336899a1e1ec/expr.h5ad',\n",
       " 'datasets/74e09cbb91aba06b48429651cb388940/expr.h5ad',\n",
       " 'datasets/79f8c7ec1b200dfe5b46d0bcfec02bd7/expr.h5ad',\n",
       " 'datasets/9b99c75de2347b9567e33065108488e8/expr.h5ad',\n",
       " 'datasets/a6bfa5ab516fcc24137cdd3ce3971e2c/expr.h5ad',\n",
       " 'datasets/aece0d5303d9ce959cdab34a9e9f3003/expr.h5ad',\n",
       " 'datasets/c6c0cca1d093fcdb8d72bd18053a7940/expr.h5ad',\n",
       " 'datasets/f88e96675a3215474570083edad66e0c/expr.h5ad']"
      ]
     },
     "execution_count": 25,
     "metadata": {},
     "output_type": "execute_result"
    }
   ],
   "source": [
    "!!for f in datasets/*/expr.h5ad; do echo $f; done;"
   ]
  },
  {
   "cell_type": "code",
   "execution_count": 31,
   "id": "5ba26dca-af6d-421b-bd63-addd3d50a332",
   "metadata": {},
   "outputs": [
    {
     "name": "stdout",
     "output_type": "stream",
     "text": [
      "['datasets/0bcea0ab24e8bc5b0529b6f4d899ddad/expr.h5ad', 'datasets/13d882fbeae970f8fb08a6f0b76bf127/expr.h5ad', 'datasets/1b5c7d45cb0e475b73f9280d092d34a5/expr.h5ad', 'datasets/2c84a86ab51ec3a1168d8ba573d32c0a/expr.h5ad', 'datasets/32b783576b6c88fec03f5e5988e3effa/expr.h5ad', 'datasets/35234b5e3eda236bb80ef3722da366f7/expr.h5ad', 'datasets/51bc718e411810044e4258dae80ff044/expr.h5ad', 'datasets/51bfd85763954248725ebf69f0dde5eb/expr.h5ad', 'datasets/55452bd302046918eaeeffa62c5b5f03/expr.h5ad', 'datasets/634511b7c63c16cfb51dc867c65cfc91/expr.h5ad', 'datasets/6cd657565c709c832300336899a1e1ec/expr.h5ad', 'datasets/74e09cbb91aba06b48429651cb388940/expr.h5ad', 'datasets/79f8c7ec1b200dfe5b46d0bcfec02bd7/expr.h5ad', 'datasets/9b99c75de2347b9567e33065108488e8/expr.h5ad', 'datasets/a6bfa5ab516fcc24137cdd3ce3971e2c/expr.h5ad', 'datasets/aece0d5303d9ce959cdab34a9e9f3003/expr.h5ad', 'datasets/c6c0cca1d093fcdb8d72bd18053a7940/expr.h5ad', 'datasets/f88e96675a3215474570083edad66e0c/expr.h5ad']\n"
     ]
    }
   ],
   "source": [
    "print(Out[7])\n",
    "dataset = Out[7][0]"
   ]
  },
  {
   "cell_type": "code",
   "execution_count": 35,
   "id": "bead9e7a-2563-4bde-b04a-e7b919483434",
   "metadata": {},
   "outputs": [
    {
     "name": "stdout",
     "output_type": "stream",
     "text": [
      "Overwriting job.json\n"
     ]
    }
   ],
   "source": [
    "%%writefile job.json\n",
    "{ \n",
    "    \"matrix\": { \n",
    "        \"class\": \"File\", \"location\": \"./datasets/0bcea0ab24e8bc5b0529b6f4d899ddad/expr.h5ad\" \n",
    "    }, \n",
    "    \"organ\": \"UBERON:0002113\", \n",
    "    \"options\": {\n",
    "        \"referenceDataDir\": { \"class\": \"Directory\", \"location\": \"./azimuth\" },\n",
    "        \"queryLayersKey\": \"raw\"\n",
    "    }\n",
    "}"
   ]
  },
  {
   "cell_type": "code",
   "execution_count": 36,
   "id": "a1d3f01d-9302-4ffc-9434-a9d739aab1d6",
   "metadata": {},
   "outputs": [
    {
     "name": "stdout",
     "output_type": "stream",
     "text": [
      "\u001b[1;30mINFO\u001b[0m /hive/user-workspaces/bherr/900/.JupyterLabJobPython_venv/bin/cwl-runner 3.1.20240708091337\n",
      "\u001b[1;30mINFO\u001b[0m Using local copy of Singularity image found in /hive/user-workspaces/bherr/900\n",
      "\u001b[1;30mINFO\u001b[0m [job pipeline.cwl] /tmp/x4z3v06f$ singularity \\\n",
      "    --quiet \\\n",
      "    exec \\\n",
      "    --contain \\\n",
      "    --ipc \\\n",
      "    --cleanenv \\\n",
      "    --pid \\\n",
      "    --home \\\n",
      "    /tmp/x4z3v06f:/HhMXUO \\\n",
      "    --bind \\\n",
      "    /tmp/n7_qy_j_:/tmp \\\n",
      "    --bind \\\n",
      "    /hive/user-workspaces/bherr/900/datasets/0bcea0ab24e8bc5b0529b6f4d899ddad/expr.h5ad:/var/lib/cwl/stg669a5cb4-f775-46e3-863a-38902191e2a4/expr.h5ad:ro \\\n",
      "    --bind \\\n",
      "    /hive/user-workspaces/bherr/900/azimuth:/var/lib/cwl/stgdd73f489-9de4-47b3-a70c-8489ca9e7c6a/azimuth:ro \\\n",
      "    --pwd \\\n",
      "    /HhMXUO \\\n",
      "    /hive/user-workspaces/bherr/900/ghcr.io_hubmapconsortium_hra-workflows_azimuth:main.sif \\\n",
      "    python3 \\\n",
      "    /main.py \\\n",
      "    /var/lib/cwl/stg669a5cb4-f775-46e3-863a-38902191e2a4/expr.h5ad \\\n",
      "    --organ \\\n",
      "    UBERON:0002113 \\\n",
      "    --query-layers-key \\\n",
      "    raw \\\n",
      "    --reference-data-dir \\\n",
      "    /var/lib/cwl/stgdd73f489-9de4-47b3-a70c-8489ca9e7c6a/azimuth\n",
      "\u001b[1;30mINFO\u001b[0m [job pipeline.cwl] completed success\n",
      "{\n",
      "    \"annotated_matrix\": {\n",
      "        \"location\": \"file:///hive/user-workspaces/bherr/900/annotated_matrix.h5ad\",\n",
      "        \"basename\": \"annotated_matrix.h5ad\",\n",
      "        \"class\": \"File\",\n",
      "        \"checksum\": \"sha1$3152cdfecf7478ffa07a7509c03f16766993d4b8\",\n",
      "        \"size\": 356785712,\n",
      "        \"path\": \"/hive/user-workspaces/bherr/900/annotated_matrix.h5ad\"\n",
      "    },\n",
      "    \"annotations\": {\n",
      "        \"location\": \"file:///hive/user-workspaces/bherr/900/annotations.csv\",\n",
      "        \"basename\": \"annotations.csv\",\n",
      "        \"class\": \"File\",\n",
      "        \"checksum\": \"sha1$b1837812258c306b66210272b85ef4c4aa4e941e\",\n",
      "        \"size\": 6521932,\n",
      "        \"path\": \"/hive/user-workspaces/bherr/900/annotations.csv\"\n",
      "    },\n",
      "    \"report\": {\n",
      "        \"location\": \"file:///hive/user-workspaces/bherr/900/report.json\",\n",
      "        \"basename\": \"report.json\",\n",
      "        \"class\": \"File\",\n",
      "        \"checksum\": \"sha1$cbd382241cdb466f8784abcc14c9913e8f4955c4\",\n",
      "        \"size\": 27,\n",
      "        \"path\": \"/hive/user-workspaces/bherr/900/report.json\"\n",
      "    }\n",
      "}\u001b[1;30mINFO\u001b[0m Final process status is success\n"
     ]
    }
   ],
   "source": [
    "!cwl-runner --singularity \"https://raw.githubusercontent.com/hubmapconsortium/hra-workflows/main/containers/azimuth/pipeline.cwl\" job.json"
   ]
  }
 ],
 "metadata": {
  "kernelspec": {
   "display_name": "Python 3 (ipykernel)",
   "language": "python",
   "name": "python3"
  },
  "language_info": {
   "codemirror_mode": {
    "name": "ipython",
    "version": 3
   },
   "file_extension": ".py",
   "mimetype": "text/x-python",
   "name": "python",
   "nbconvert_exporter": "python",
   "pygments_lexer": "ipython3",
   "version": "3.9.19"
  }
 },
 "nbformat": 4,
 "nbformat_minor": 5
}
