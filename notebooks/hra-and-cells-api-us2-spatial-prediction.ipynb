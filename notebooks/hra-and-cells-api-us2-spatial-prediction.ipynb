{
 "cells": [
  {
   "cell_type": "markdown",
   "metadata": {},
   "source": [
    "# Using the HuBMAP Cells API and the HRA API for Spatial Prediction"
   ]
  },
  {
   "cell_type": "markdown",
   "metadata": {},
   "source": [
    "Find all HuBMAP datasets with Cell Ontology annotated cells via Azimuth with the Cells API, then use the cell populations for each dataset to find relevant datasets, rui locations, and anatomical structures using the Human Reference Atlas HRApop features in the HRA API. Visualize the results via HRA Jupyter Widgets, including a custom EUI."
   ]
  },
  {
   "cell_type": "markdown",
   "metadata": {},
   "source": [
    "# Install libraries"
   ]
  },
  {
   "cell_type": "code",
   "execution_count": 1,
   "metadata": {},
   "outputs": [
    {
     "name": "stdout",
     "output_type": "stream",
     "text": [
      "Requirement already satisfied: hra_api_client in /home/bherr/workspaces/hubmap/hra-notebooks/.venv/lib/python3.10/site-packages (0.11.0)\n",
      "Requirement already satisfied: hubmap_api_py_client in /home/bherr/workspaces/hubmap/hra-notebooks/.venv/lib/python3.10/site-packages (0.0.11)\n",
      "Requirement already satisfied: hra_jupyter_widgets in /home/bherr/workspaces/hubmap/hra-notebooks/.venv/lib/python3.10/site-packages (0.4.0)\n",
      "Requirement already satisfied: urllib3<2.1.0,>=1.25.3 in /home/bherr/workspaces/hubmap/hra-notebooks/.venv/lib/python3.10/site-packages (from hra_api_client) (2.0.7)\n",
      "Requirement already satisfied: pydantic>=2 in /home/bherr/workspaces/hubmap/hra-notebooks/.venv/lib/python3.10/site-packages (from hra_api_client) (2.9.2)\n",
      "Requirement already satisfied: typing-extensions>=4.7.1 in /home/bherr/workspaces/hubmap/hra-notebooks/.venv/lib/python3.10/site-packages (from hra_api_client) (4.12.2)\n",
      "Requirement already satisfied: python-dateutil in /home/bherr/workspaces/hubmap/hra-notebooks/.venv/lib/python3.10/site-packages (from hra_api_client) (2.9.0.post0)\n",
      "Requirement already satisfied: requests>=2.0.0 in /home/bherr/workspaces/hubmap/hra-notebooks/.venv/lib/python3.10/site-packages (from hubmap_api_py_client) (2.32.3)\n",
      "Requirement already satisfied: anywidget in /home/bherr/workspaces/hubmap/hra-notebooks/.venv/lib/python3.10/site-packages (from hra_jupyter_widgets) (0.9.13)\n",
      "Requirement already satisfied: traitlets>=5.10 in /home/bherr/workspaces/hubmap/hra-notebooks/.venv/lib/python3.10/site-packages (from hra_jupyter_widgets) (5.14.3)\n",
      "Requirement already satisfied: annotated-types>=0.6.0 in /home/bherr/workspaces/hubmap/hra-notebooks/.venv/lib/python3.10/site-packages (from pydantic>=2->hra_api_client) (0.7.0)\n",
      "Requirement already satisfied: pydantic-core==2.23.4 in /home/bherr/workspaces/hubmap/hra-notebooks/.venv/lib/python3.10/site-packages (from pydantic>=2->hra_api_client) (2.23.4)\n",
      "Requirement already satisfied: certifi>=2017.4.17 in /home/bherr/workspaces/hubmap/hra-notebooks/.venv/lib/python3.10/site-packages (from requests>=2.0.0->hubmap_api_py_client) (2024.8.30)\n",
      "Requirement already satisfied: charset-normalizer<4,>=2 in /home/bherr/workspaces/hubmap/hra-notebooks/.venv/lib/python3.10/site-packages (from requests>=2.0.0->hubmap_api_py_client) (3.3.2)\n",
      "Requirement already satisfied: idna<4,>=2.5 in /home/bherr/workspaces/hubmap/hra-notebooks/.venv/lib/python3.10/site-packages (from requests>=2.0.0->hubmap_api_py_client) (3.10)\n",
      "Requirement already satisfied: psygnal>=0.8.1 in /home/bherr/workspaces/hubmap/hra-notebooks/.venv/lib/python3.10/site-packages (from anywidget->hra_jupyter_widgets) (0.11.1)\n",
      "Requirement already satisfied: ipywidgets>=7.6.0 in /home/bherr/workspaces/hubmap/hra-notebooks/.venv/lib/python3.10/site-packages (from anywidget->hra_jupyter_widgets) (8.1.5)\n",
      "Requirement already satisfied: six>=1.5 in /home/bherr/workspaces/hubmap/hra-notebooks/.venv/lib/python3.10/site-packages (from python-dateutil->hra_api_client) (1.16.0)\n",
      "Requirement already satisfied: widgetsnbextension~=4.0.12 in /home/bherr/workspaces/hubmap/hra-notebooks/.venv/lib/python3.10/site-packages (from ipywidgets>=7.6.0->anywidget->hra_jupyter_widgets) (4.0.13)\n",
      "Requirement already satisfied: comm>=0.1.3 in /home/bherr/workspaces/hubmap/hra-notebooks/.venv/lib/python3.10/site-packages (from ipywidgets>=7.6.0->anywidget->hra_jupyter_widgets) (0.2.2)\n",
      "Requirement already satisfied: jupyterlab-widgets~=3.0.12 in /home/bherr/workspaces/hubmap/hra-notebooks/.venv/lib/python3.10/site-packages (from ipywidgets>=7.6.0->anywidget->hra_jupyter_widgets) (3.0.13)\n",
      "Requirement already satisfied: ipython>=6.1.0 in /home/bherr/workspaces/hubmap/hra-notebooks/.venv/lib/python3.10/site-packages (from ipywidgets>=7.6.0->anywidget->hra_jupyter_widgets) (8.27.0)\n",
      "Requirement already satisfied: pygments>=2.4.0 in /home/bherr/workspaces/hubmap/hra-notebooks/.venv/lib/python3.10/site-packages (from ipython>=6.1.0->ipywidgets>=7.6.0->anywidget->hra_jupyter_widgets) (2.18.0)\n",
      "Requirement already satisfied: prompt-toolkit<3.1.0,>=3.0.41 in /home/bherr/workspaces/hubmap/hra-notebooks/.venv/lib/python3.10/site-packages (from ipython>=6.1.0->ipywidgets>=7.6.0->anywidget->hra_jupyter_widgets) (3.0.47)\n",
      "Requirement already satisfied: exceptiongroup in /home/bherr/workspaces/hubmap/hra-notebooks/.venv/lib/python3.10/site-packages (from ipython>=6.1.0->ipywidgets>=7.6.0->anywidget->hra_jupyter_widgets) (1.2.2)\n",
      "Requirement already satisfied: decorator in /home/bherr/workspaces/hubmap/hra-notebooks/.venv/lib/python3.10/site-packages (from ipython>=6.1.0->ipywidgets>=7.6.0->anywidget->hra_jupyter_widgets) (5.1.1)\n",
      "Requirement already satisfied: jedi>=0.16 in /home/bherr/workspaces/hubmap/hra-notebooks/.venv/lib/python3.10/site-packages (from ipython>=6.1.0->ipywidgets>=7.6.0->anywidget->hra_jupyter_widgets) (0.19.1)\n",
      "Requirement already satisfied: stack-data in /home/bherr/workspaces/hubmap/hra-notebooks/.venv/lib/python3.10/site-packages (from ipython>=6.1.0->ipywidgets>=7.6.0->anywidget->hra_jupyter_widgets) (0.6.3)\n",
      "Requirement already satisfied: pexpect>4.3 in /home/bherr/workspaces/hubmap/hra-notebooks/.venv/lib/python3.10/site-packages (from ipython>=6.1.0->ipywidgets>=7.6.0->anywidget->hra_jupyter_widgets) (4.9.0)\n",
      "Requirement already satisfied: matplotlib-inline in /home/bherr/workspaces/hubmap/hra-notebooks/.venv/lib/python3.10/site-packages (from ipython>=6.1.0->ipywidgets>=7.6.0->anywidget->hra_jupyter_widgets) (0.1.7)\n",
      "Requirement already satisfied: parso<0.9.0,>=0.8.3 in /home/bherr/workspaces/hubmap/hra-notebooks/.venv/lib/python3.10/site-packages (from jedi>=0.16->ipython>=6.1.0->ipywidgets>=7.6.0->anywidget->hra_jupyter_widgets) (0.8.4)\n",
      "Requirement already satisfied: ptyprocess>=0.5 in /home/bherr/workspaces/hubmap/hra-notebooks/.venv/lib/python3.10/site-packages (from pexpect>4.3->ipython>=6.1.0->ipywidgets>=7.6.0->anywidget->hra_jupyter_widgets) (0.7.0)\n",
      "Requirement already satisfied: wcwidth in /home/bherr/workspaces/hubmap/hra-notebooks/.venv/lib/python3.10/site-packages (from prompt-toolkit<3.1.0,>=3.0.41->ipython>=6.1.0->ipywidgets>=7.6.0->anywidget->hra_jupyter_widgets) (0.2.13)\n",
      "Requirement already satisfied: executing>=1.2.0 in /home/bherr/workspaces/hubmap/hra-notebooks/.venv/lib/python3.10/site-packages (from stack-data->ipython>=6.1.0->ipywidgets>=7.6.0->anywidget->hra_jupyter_widgets) (2.1.0)\n",
      "Requirement already satisfied: pure-eval in /home/bherr/workspaces/hubmap/hra-notebooks/.venv/lib/python3.10/site-packages (from stack-data->ipython>=6.1.0->ipywidgets>=7.6.0->anywidget->hra_jupyter_widgets) (0.2.3)\n",
      "Requirement already satisfied: asttokens>=2.1.0 in /home/bherr/workspaces/hubmap/hra-notebooks/.venv/lib/python3.10/site-packages (from stack-data->ipython>=6.1.0->ipywidgets>=7.6.0->anywidget->hra_jupyter_widgets) (2.4.1)\n"
     ]
    }
   ],
   "source": [
    "!pip install --upgrade hra_api_client hubmap_api_py_client hra_jupyter_widgets"
   ]
  },
  {
   "cell_type": "markdown",
   "metadata": {},
   "source": [
    "# Part 1: Get Cell Populations from HuBMAP Datasets using the Cells API"
   ]
  },
  {
   "cell_type": "markdown",
   "metadata": {},
   "source": [
    "Imports / functions"
   ]
  },
  {
   "cell_type": "code",
   "execution_count": 2,
   "metadata": {},
   "outputs": [],
   "source": [
    "from hubmap_api_py_client import Client\n",
    "from collections import Counter"
   ]
  },
  {
   "cell_type": "markdown",
   "metadata": {},
   "source": [
    "Setup the HuBMAP Cells API Client"
   ]
  },
  {
   "cell_type": "code",
   "execution_count": 3,
   "metadata": {},
   "outputs": [],
   "source": [
    "\n",
    "endpoint_url = \"https://cells.api.hubmapconsortium.org/api/\"\n",
    "client = Client(endpoint_url) "
   ]
  },
  {
   "cell_type": "markdown",
   "metadata": {},
   "source": [
    "Find cell types that have annotated datasets"
   ]
  },
  {
   "cell_type": "code",
   "execution_count": 4,
   "metadata": {},
   "outputs": [
    {
     "name": "stdout",
     "output_type": "stream",
     "text": [
      "cell types: 63\n"
     ]
    }
   ],
   "source": [
    "all_celltypes = client.select_celltypes()\n",
    "assert len(all_celltypes) > 0\n",
    "\n",
    "celltypes = [c[\"grouping_name\"] for c in all_celltypes.get_list()]\n",
    "print('cell types:', len(celltypes))"
   ]
  },
  {
   "cell_type": "markdown",
   "metadata": {},
   "source": [
    "Find all datasets that have been annotated with cell types"
   ]
  },
  {
   "cell_type": "code",
   "execution_count": 5,
   "metadata": {},
   "outputs": [
    {
     "name": "stdout",
     "output_type": "stream",
     "text": [
      "annotated datasets with cell types: 45\n"
     ]
    }
   ],
   "source": [
    "datasets = client.select_datasets(where='celltype', has=celltypes).get_list()\n",
    "assert len(datasets) > 0\n",
    "\n",
    "uuids = [ d['uuid'] for d in datasets ]\n",
    "print('annotated datasets with cell types:', len(datasets))"
   ]
  },
  {
   "cell_type": "markdown",
   "metadata": {},
   "source": [
    "Get cells for each annotated dataset"
   ]
  },
  {
   "cell_type": "code",
   "execution_count": 6,
   "metadata": {},
   "outputs": [],
   "source": [
    "dataset_cells = {}\n",
    "dataset_organ = {}\n",
    "dataset_modality = {}\n",
    "\n",
    "for uuid in uuids:\n",
    "    cells_in_dataset = client.select_cells(where='dataset', has=[uuid])\n",
    "    all_cells = cells_in_dataset.get_list().results_set.get_list()\n",
    "\n",
    "    population = Counter()\n",
    "    for cell in all_cells:\n",
    "        population[cell['cell_type']] += 1\n",
    "        dataset_organ[uuid] = cell['organ'].lower()\n",
    "        dataset_modality[uuid] = cell['modality']\n",
    "\n",
    "    dataset_cells[uuid] = population"
   ]
  },
  {
   "cell_type": "markdown",
   "metadata": {},
   "source": [
    "Show raw data results for one dataset"
   ]
  },
  {
   "cell_type": "code",
   "execution_count": 7,
   "metadata": {},
   "outputs": [
    {
     "name": "stdout",
     "output_type": "stream",
     "text": [
      "007f3dfaaa287d5c7c227651f61a9c5b top cell types: [('CL:0000057', 1868), ('CL:0000235', 621), ('CL:0002131', 532), ('CL:0002144', 310), ('CL:0000763', 273)]\n",
      "007f3dfaaa287d5c7c227651f61a9c5b organ: heart\n",
      "007f3dfaaa287d5c7c227651f61a9c5b modality: rna\n"
     ]
    }
   ],
   "source": [
    "print(uuids[0], 'top cell types:', dataset_cells[uuids[0]].most_common(5))\n",
    "print(uuids[0], 'organ:', dataset_organ[uuids[0]])\n",
    "print(uuids[0], 'modality:', dataset_modality[uuids[0]])"
   ]
  },
  {
   "cell_type": "markdown",
   "metadata": {},
   "source": [
    "# Part 2: Predict Spatial Locations Using the HRA API"
   ]
  },
  {
   "cell_type": "markdown",
   "metadata": {},
   "source": [
    "Imports / functions"
   ]
  },
  {
   "cell_type": "code",
   "execution_count": 8,
   "metadata": {},
   "outputs": [],
   "source": [
    "import hra_api_client\n",
    "import time\n",
    "import json\n",
    "import os\n",
    "from hra_api_client.api import v1_api, hra_pop_api\n",
    "from ipywidgets import IntProgress"
   ]
  },
  {
   "cell_type": "markdown",
   "metadata": {},
   "source": [
    "Setup the HRA API Client"
   ]
  },
  {
   "cell_type": "code",
   "execution_count": 9,
   "metadata": {},
   "outputs": [],
   "source": [
    "hra_api_endpoint_url = \"https://apps.humanatlas.io/api\"\n",
    "configuration = hra_api_client.Configuration(hra_api_endpoint_url)\n",
    "api_client = hra_api_client.ApiClient(configuration)\n",
    "hra_api = v1_api.V1Api(api_client)\n",
    "hra_pop_api = hra_pop_api.HraPopApi(api_client)"
   ]
  },
  {
   "cell_type": "markdown",
   "metadata": {},
   "source": [
    "Get supported organ lookup"
   ]
  },
  {
   "cell_type": "code",
   "execution_count": 10,
   "metadata": {},
   "outputs": [
    {
     "data": {
      "text/plain": [
       "{'small intestine': 'http://purl.obolibrary.org/obo/UBERON_0002108',\n",
       " 'heart': 'http://purl.obolibrary.org/obo/UBERON_0000948',\n",
       " 'kidney': 'http://purl.obolibrary.org/obo/UBERON_0002113',\n",
       " 'large intestine': 'http://purl.obolibrary.org/obo/UBERON_0000059',\n",
       " 'liver': 'http://purl.obolibrary.org/obo/UBERON_0002107',\n",
       " 'lung': 'http://purl.obolibrary.org/obo/UBERON_0002048',\n",
       " 'skin': 'http://purl.obolibrary.org/obo/UBERON_0002097',\n",
       " 'skin of body': 'http://purl.obolibrary.org/obo/UBERON_0002097',\n",
       " 'spleen': 'http://purl.obolibrary.org/obo/UBERON_0002106',\n",
       " 'ureter': 'http://purl.obolibrary.org/obo/UBERON_0000056',\n",
       " 'urinary bladder': 'http://purl.obolibrary.org/obo/UBERON_0001255'}"
      ]
     },
     "execution_count": 10,
     "metadata": {},
     "output_type": "execute_result"
    }
   ],
   "source": [
    "organ_lookup = dict((organ.label.lower(), organ.id) for organ in hra_pop_api.supported_organs())\n",
    "organ_lookup"
   ]
  },
  {
   "cell_type": "markdown",
   "metadata": {},
   "source": [
    "Get HRApop cell summary reports for each dataset"
   ]
  },
  {
   "cell_type": "code",
   "execution_count": 11,
   "metadata": {},
   "outputs": [
    {
     "name": "stdout",
     "output_type": "stream",
     "text": [
      "Reading in previously generated US#2 results\n"
     ]
    }
   ],
   "source": [
    "if not os.path.exists('us2-results.json'):\n",
    "    progress = IntProgress(min=0, max=len(uuids))\n",
    "    display(progress)\n",
    "\n",
    "    dataset_summary = {}\n",
    "    for uuid in uuids:\n",
    "        progress.value += 1\n",
    "        total_count = sum(dataset_cells[uuid].values())\n",
    "        csv = \"\\n\".join([\"cell_id,percentage\"] + [ f\"{cell_id},{count / total_count}\" for (cell_id,count) in dataset_cells[uuid].items() ])\n",
    "        dataset_summary[uuid] = json.loads(hra_pop_api.cell_summary_report_without_preload_content({ \"csvString\": csv }).data)\n",
    "\n",
    "    with open('us2-results.json', 'w') as f:\n",
    "        json.dump(dataset_summary, f, indent=2)\n",
    "else:\n",
    "    print(\"Reading in previously generated US#2 results\")\n",
    "    with open('us2-results.json', 'r') as f:\n",
    "        dataset_summary = json.load(f)"
   ]
  },
  {
   "cell_type": "markdown",
   "metadata": {},
   "source": [
    "Show raw data results for one dataset"
   ]
  },
  {
   "cell_type": "code",
   "execution_count": 24,
   "metadata": {},
   "outputs": [
    {
     "name": "stdout",
     "output_type": "stream",
     "text": [
      "007f3dfaaa287d5c7c227651f61a9c5b has similar sources: 445\n",
      "007f3dfaaa287d5c7c227651f61a9c5b has similar RUI locations: 2\n"
     ]
    }
   ],
   "source": [
    "print(uuids[0], 'has similar sources:', len(dataset_summary[uuids[0]]['sources']))\n",
    "print(uuids[0], 'has similar RUI locations:', len(dataset_summary[uuids[0]]['rui_locations']))"
   ]
  },
  {
   "cell_type": "code",
   "execution_count": 13,
   "metadata": {},
   "outputs": [
    {
     "name": "stdout",
     "output_type": "stream",
     "text": [
      "007f3dfaaa287d5c7c227651f61a9c5b anatomical structures with similar cell populations:\n",
      " ascending colon\n",
      " ascending part of duodenum\n",
      " caecum\n",
      " descending colon\n",
      " descending part of duodenum\n",
      " distal part of ileum\n",
      " heart left ventricle\n",
      " horizontal part of duodenum\n",
      " ileum\n",
      " jejunum\n",
      " lateral bronchopulmonary segment\n",
      " lateral segmental bronchus\n",
      " medial bronchopulmonary segment\n",
      " rectum\n",
      " right cardiac atrium\n",
      " sigmoid colon\n",
      " transverse colon\n"
     ]
    }
   ],
   "source": [
    "similar_as = list(filter(lambda s: s['cell_source_type'] == \"http://purl.org/ccf/AnatomicalStructure\", dataset_summary[uuids[0]]['sources']))\n",
    "\n",
    "as_labels = list(sorted(set([ s['cell_source_label'].lower() for s in similar_as if s['similarity'] > 0.7 ])))\n",
    "print(uuids[0], 'anatomical structures with similar cell populations:\\n', '\\n '.join(as_labels))"
   ]
  },
  {
   "cell_type": "markdown",
   "metadata": {},
   "source": [
    "Create an HRA API session to explore the results"
   ]
  },
  {
   "cell_type": "code",
   "execution_count": 14,
   "metadata": {},
   "outputs": [
    {
     "name": "stdout",
     "output_type": "stream",
     "text": [
      "b3520ba779bf0c7b35b71d6ee6aec207\n"
     ]
    }
   ],
   "source": [
    "# Gather all RUI locations from the results\n",
    "data_sources = list( json.dumps(s['rui_locations']).replace(\"ccf:\", \"http://purl.org/ccf/\") for s in dataset_summary.values() )\n",
    "filter_organs = list(set(organ_lookup[dataset_organ[uuid]] for uuid in uuids))\n",
    "filter =  { \"ontologyTerms\": filter_organs }\n",
    "\n",
    "# Get a session token for this configuration\n",
    "api_response = hra_api.session_token({ \"dataSources\": data_sources })\n",
    "token=api_response.token\n",
    "print(token)"
   ]
  },
  {
   "cell_type": "markdown",
   "metadata": {},
   "source": [
    "After we get the session token, we wait to make sure the session is ready."
   ]
  },
  {
   "cell_type": "code",
   "execution_count": 15,
   "metadata": {},
   "outputs": [
    {
     "name": "stdout",
     "output_type": "stream",
     "text": [
      "status='Ready' checkback=3600000 load_time=18160 message='Dataset ready'\n"
     ]
    }
   ],
   "source": [
    "db_ready = False\n",
    "while not db_ready:\n",
    "    api_response = hra_api.db_status(token)\n",
    "    print(api_response)\n",
    "    if api_response.status == 'Ready':\n",
    "        db_ready = True\n",
    "    else:\n",
    "        print('Database not ready yet! Retrying...')\n",
    "        time.sleep(2)"
   ]
  },
  {
   "cell_type": "markdown",
   "metadata": {},
   "source": [
    "Show basic statistics about the gathered data"
   ]
  },
  {
   "cell_type": "code",
   "execution_count": 16,
   "metadata": {},
   "outputs": [
    {
     "data": {
      "text/plain": [
       "[AggregateCount(label='Consortia', count=2),\n",
       " AggregateCount(label='Tissue Data Providers', count=4),\n",
       " AggregateCount(label='Donors', count=36),\n",
       " AggregateCount(label='Tissue Blocks', count=76),\n",
       " AggregateCount(label='Extraction Sites', count=53),\n",
       " AggregateCount(label='Tissue Sections', count=0),\n",
       " AggregateCount(label='Tissue Datasets', count=165)]"
      ]
     },
     "execution_count": 16,
     "metadata": {},
     "output_type": "execute_result"
    }
   ],
   "source": [
    "hra_api.aggregate_results(token=token, ontology_terms=filter_organs)"
   ]
  },
  {
   "cell_type": "markdown",
   "metadata": {},
   "source": [
    "# Part 3: Visualize the results"
   ]
  },
  {
   "cell_type": "markdown",
   "metadata": {},
   "source": [
    "Imports / functions"
   ]
  },
  {
   "cell_type": "code",
   "execution_count": 17,
   "metadata": {},
   "outputs": [],
   "source": [
    "from hra_jupyter_widgets import ( BodyUi, Eui )"
   ]
  },
  {
   "cell_type": "code",
   "execution_count": 18,
   "metadata": {},
   "outputs": [],
   "source": [
    "def keep_node(node, selected_organs):\n",
    "    organ = node.representation_of\n",
    "    return (not organ) or organ in selected_organs\n",
    "\n",
    "def filter_scene(scene, selected_organs):\n",
    "    return list( json.loads(node.to_json()) for node in scene if keep_node(node, selected_organs))"
   ]
  },
  {
   "cell_type": "markdown",
   "metadata": {},
   "source": [
    "Display tissue blocks in a 3D scene"
   ]
  },
  {
   "cell_type": "code",
   "execution_count": 19,
   "metadata": {},
   "outputs": [
    {
     "data": {
      "application/vnd.jupyter.widget-view+json": {
       "model_id": "af993a6fe426481ea773bc186da6eab1",
       "version_major": 2,
       "version_minor": 1
      },
      "text/plain": [
       "BodyUi(height='500px', scene=[{'representation_of': 'http://purl.obolibrary.org/obo/UBERON_0002097', 'referenc…"
      ]
     },
     "metadata": {},
     "output_type": "display_data"
    }
   ],
   "source": [
    "selected_organs = [organ_lookup['skin'], organ_lookup['heart'], \"http://purl.obolibrary.org/obo/UBERON_0004538\", \"http://purl.obolibrary.org/obo/UBERON_0004539\" ]\n",
    "scene = filter_scene(hra_api.scene(token=token, ontology_terms=filter_organs), selected_organs)\n",
    "\n",
    "body_ui = BodyUi(scene=scene, height=\"500px\")\n",
    "display(body_ui)"
   ]
  },
  {
   "cell_type": "markdown",
   "metadata": {},
   "source": [
    "Interact with the results in the EUI"
   ]
  },
  {
   "cell_type": "code",
   "execution_count": 20,
   "metadata": {},
   "outputs": [
    {
     "data": {
      "application/vnd.jupyter.widget-view+json": {
       "model_id": "3bac1955a6d84738941aee5a63d27ede",
       "version_major": 2,
       "version_minor": 1
      },
      "text/plain": [
       "Eui(data_sources=['{\"@context\": \"https://hubmapconsortium.github.io/ccf-ontology/ccf-context.jsonld\", \"@graph\"…"
      ]
     },
     "metadata": {},
     "output_type": "display_data"
    }
   ],
   "source": [
    "eui = Eui(remote_api_endpoint=hra_api_endpoint_url, data_sources=data_sources, filter=filter, selected_organs=selected_organs)\n",
    "display(eui)"
   ]
  }
 ],
 "metadata": {
  "kernelspec": {
   "display_name": ".venv",
   "language": "python",
   "name": "python3"
  },
  "language_info": {
   "codemirror_mode": {
    "name": "ipython",
    "version": 3
   },
   "file_extension": ".py",
   "mimetype": "text/x-python",
   "name": "python",
   "nbconvert_exporter": "python",
   "pygments_lexer": "ipython3",
   "version": "3.10.12"
  }
 },
 "nbformat": 4,
 "nbformat_minor": 4
}
