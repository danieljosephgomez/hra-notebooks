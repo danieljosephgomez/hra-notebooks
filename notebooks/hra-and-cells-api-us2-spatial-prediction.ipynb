{
 "cells": [
  {
   "cell_type": "markdown",
   "metadata": {},
   "source": [
    "# Using the HuBMAP Cells API and the HRA API for Spatial Prediction"
   ]
  },
  {
   "cell_type": "markdown",
   "metadata": {},
   "source": [
    "Find all HuBMAP datasets with Cell Ontology annotated cells via Azimuth with the Cells API, then use the cell populations for each dataset to find relevant datasets, rui locations, and anatomical structures using the Human Reference Atlas HRApop features in the HRA API. Visualize the results via HRA Jupyter Widgets, including a custom EUI."
   ]
  },
  {
   "cell_type": "markdown",
   "metadata": {},
   "source": [
    "# Install libraries"
   ]
  },
  {
   "cell_type": "code",
   "execution_count": null,
   "metadata": {},
   "outputs": [],
   "source": [
    "!pip install --upgrade hra_api_client hubmap_api_py_client hra_jupyter_widgets"
   ]
  },
  {
   "cell_type": "markdown",
   "metadata": {},
   "source": [
    "# Part 1: Get Cell Populations from HuBMAP Datasets using the Cells API"
   ]
  },
  {
   "cell_type": "markdown",
   "metadata": {},
   "source": [
    "Imports / functions"
   ]
  },
  {
   "cell_type": "code",
   "execution_count": 2,
   "metadata": {},
   "outputs": [],
   "source": [
    "from hubmap_api_py_client import Client\n",
    "from collections import Counter"
   ]
  },
  {
   "cell_type": "markdown",
   "metadata": {},
   "source": [
    "Setup the HuBMAP Cells API Client"
   ]
  },
  {
   "cell_type": "code",
   "execution_count": 3,
   "metadata": {},
   "outputs": [],
   "source": [
    "\n",
    "endpoint_url = \"https://cells.api.hubmapconsortium.org/api/\"\n",
    "client = Client(endpoint_url) "
   ]
  },
  {
   "cell_type": "markdown",
   "metadata": {},
   "source": [
    "Find cell types that have annotated datasets"
   ]
  },
  {
   "cell_type": "code",
   "execution_count": null,
   "metadata": {},
   "outputs": [],
   "source": [
    "all_celltypes = client.select_celltypes()\n",
    "assert len(all_celltypes) > 0\n",
    "\n",
    "celltypes = [c[\"grouping_name\"] for c in all_celltypes.get_list()]\n",
    "print('cell types:', len(celltypes))"
   ]
  },
  {
   "cell_type": "markdown",
   "metadata": {},
   "source": [
    "Find all datasets that have been annotated with cell types"
   ]
  },
  {
   "cell_type": "code",
   "execution_count": null,
   "metadata": {},
   "outputs": [],
   "source": [
    "datasets = client.select_datasets(where='celltype', has=celltypes).get_list()\n",
    "assert len(datasets) > 0\n",
    "\n",
    "uuids = [ d['uuid'] for d in datasets ]\n",
    "print('annotated datasets with cell types:', len(datasets))"
   ]
  },
  {
   "cell_type": "markdown",
   "metadata": {},
   "source": [
    "Get cells for each annotated dataset"
   ]
  },
  {
   "cell_type": "code",
   "execution_count": 7,
   "metadata": {},
   "outputs": [],
   "source": [
    "dataset_cells = {}\n",
    "dataset_organ = {}\n",
    "dataset_modality = {}\n",
    "\n",
    "for uuid in uuids:\n",
    "    cells_in_dataset = client.select_cells(where='dataset', has=[uuid])\n",
    "    all_cells = cells_in_dataset.get_list().results_set.get_list()\n",
    "\n",
    "    population = Counter()\n",
    "    for cell in all_cells:\n",
    "        population[cell['cell_type']] += 1\n",
    "        dataset_organ[uuid] = cell['organ'].lower()\n",
    "        dataset_modality[uuid] = cell['modality']\n",
    "\n",
    "    dataset_cells[uuid] = population"
   ]
  },
  {
   "cell_type": "markdown",
   "metadata": {},
   "source": [
    "Show raw data results for one dataset"
   ]
  },
  {
   "cell_type": "code",
   "execution_count": null,
   "metadata": {},
   "outputs": [],
   "source": [
    "print(uuids[0], 'top cell types:', dataset_cells[uuids[0]].most_common(5))\n",
    "print(uuids[0], 'organ:', dataset_organ[uuids[0]])\n",
    "print(uuids[0], 'modality:', dataset_modality[uuids[0]])"
   ]
  },
  {
   "cell_type": "markdown",
   "metadata": {},
   "source": [
    "# Part 2: Predict Spatial Locations Using the HRA API"
   ]
  },
  {
   "cell_type": "markdown",
   "metadata": {},
   "source": [
    "Imports / functions"
   ]
  },
  {
   "cell_type": "code",
   "execution_count": 9,
   "metadata": {},
   "outputs": [],
   "source": [
    "import hra_api_client\n",
    "import time\n",
    "import json\n",
    "from hra_api_client.api import v1_api, hra_pop_api"
   ]
  },
  {
   "cell_type": "markdown",
   "metadata": {},
   "source": [
    "Setup the HRA API Client"
   ]
  },
  {
   "cell_type": "code",
   "execution_count": 10,
   "metadata": {},
   "outputs": [],
   "source": [
    "hra_api_endpoint_url = \"https://apps.humanatlas.io/api\"\n",
    "configuration = hra_api_client.Configuration(hra_api_endpoint_url)\n",
    "api_client = hra_api_client.ApiClient(configuration)\n",
    "hra_api = v1_api.V1Api(api_client)\n",
    "hra_pop_api = hra_pop_api.HraPopApi(api_client)"
   ]
  },
  {
   "cell_type": "markdown",
   "metadata": {},
   "source": [
    "Get supported organ lookup"
   ]
  },
  {
   "cell_type": "code",
   "execution_count": null,
   "metadata": {},
   "outputs": [],
   "source": [
    "organ_lookup = dict((organ.label.lower(), organ.id) for organ in hra_pop_api.supported_organs())\n",
    "organ_lookup"
   ]
  },
  {
   "cell_type": "markdown",
   "metadata": {},
   "source": [
    "Get HRApop cell summary reports for each dataset"
   ]
  },
  {
   "cell_type": "code",
   "execution_count": null,
   "metadata": {},
   "outputs": [],
   "source": [
    "dataset_summary = {}\n",
    "\n",
    "from ipywidgets import IntProgress\n",
    "progress = IntProgress(min=0, max=len(uuids))\n",
    "display(progress)\n",
    "\n",
    "for uuid in uuids:\n",
    "    progress.value += 1\n",
    "    total_count = sum(dataset_cells[uuid].values())\n",
    "    csv = \"\\n\".join([\"cell_id,percentage\"] + [ f\"{cell_id},{count / total_count}\" for (cell_id,count) in dataset_cells[uuid].items() ])\n",
    "    dataset_summary[uuid] = json.loads(hra_pop_api.cell_summary_report_without_preload_content({ \"csvString\": csv }).data)"
   ]
  },
  {
   "cell_type": "markdown",
   "metadata": {},
   "source": [
    "Show raw data results for one dataset"
   ]
  },
  {
   "cell_type": "code",
   "execution_count": null,
   "metadata": {},
   "outputs": [],
   "source": [
    "print(uuids[0], 'has similar sources:', len(dataset_summary[uuids[0]]['sources']))\n",
    "print(uuids[0], 'has similar RUI locations:', len(dataset_summary[uuids[0]]['rui_locations']))\n",
    "\n",
    "dataset_summary[uuids[0]]['rui_locations']"
   ]
  },
  {
   "cell_type": "code",
   "execution_count": null,
   "metadata": {},
   "outputs": [],
   "source": [
    "similar_as = list(filter(lambda s: s['cell_source_type'] == \"http://purl.org/ccf/AnatomicalStructure\", dataset_summary[uuids[0]]['sources']))\n",
    "\n",
    "as_labels = list(sorted(set([ s['cell_source_label'].lower() for s in similar_as if s['similarity'] > 0.66 ])))\n",
    "print(uuids[0], 'anatomical structures with similar cell populations:\\n', '\\n '.join(as_labels))"
   ]
  },
  {
   "cell_type": "markdown",
   "metadata": {},
   "source": [
    "Create an HRA API session to explore the results"
   ]
  },
  {
   "cell_type": "code",
   "execution_count": null,
   "metadata": {},
   "outputs": [],
   "source": [
    "# Gather all RUI locations from the results\n",
    "data_sources = list( json.dumps(s['rui_locations']).replace(\"ccf:\", \"http://purl.org/ccf/\") for s in dataset_summary.values() )\n",
    "filter_organs = list(set(organ_lookup[dataset_organ[uuid]] for uuid in uuids))\n",
    "filter =  { \"ontologyTerms\": filter_organs }\n",
    "\n",
    "# Get a session token for this configuration\n",
    "api_response = hra_api.session_token({ \"dataSources\": data_sources })\n",
    "token=api_response.token\n",
    "print(token)"
   ]
  },
  {
   "cell_type": "markdown",
   "metadata": {},
   "source": [
    "After we get the session token, we wait to make sure the session is ready."
   ]
  },
  {
   "cell_type": "code",
   "execution_count": null,
   "metadata": {},
   "outputs": [],
   "source": [
    "db_ready = False\n",
    "while not db_ready:\n",
    "    api_response = hra_api.db_status(token)\n",
    "    print(api_response)\n",
    "    if api_response.status == 'Ready':\n",
    "        db_ready = True\n",
    "    else:\n",
    "        print('Database not ready yet! Retrying...')\n",
    "        time.sleep(2)"
   ]
  },
  {
   "cell_type": "markdown",
   "metadata": {},
   "source": [
    "Show basic statistics about the gathered data"
   ]
  },
  {
   "cell_type": "code",
   "execution_count": null,
   "metadata": {},
   "outputs": [],
   "source": [
    "hra_api.aggregate_results(token=token, ontology_terms=filter_organs)"
   ]
  },
  {
   "cell_type": "markdown",
   "metadata": {},
   "source": [
    "# Part 3: Visualize the results"
   ]
  },
  {
   "cell_type": "markdown",
   "metadata": {},
   "source": [
    "Imports / functions"
   ]
  },
  {
   "cell_type": "code",
   "execution_count": 22,
   "metadata": {},
   "outputs": [],
   "source": [
    "from hra_jupyter_widgets import ( BodyUi, Eui )"
   ]
  },
  {
   "cell_type": "code",
   "execution_count": 19,
   "metadata": {},
   "outputs": [],
   "source": [
    "def keep_node(node, selected_organs):\n",
    "    organ = node.representation_of\n",
    "    return (not organ) or organ in selected_organs\n",
    "\n",
    "def filter_scene(scene, selected_organs):\n",
    "    return list( json.loads(node.to_json()) for node in scene if keep_node(node, selected_organs))"
   ]
  },
  {
   "cell_type": "markdown",
   "metadata": {},
   "source": [
    "Display tissue blocks in a 3D scene"
   ]
  },
  {
   "cell_type": "code",
   "execution_count": null,
   "metadata": {},
   "outputs": [],
   "source": [
    "selected_organs = [organ_lookup['skin'], organ_lookup['heart'], \"http://purl.obolibrary.org/obo/UBERON_0004538\", \"http://purl.obolibrary.org/obo/UBERON_0004539\" ]\n",
    "scene = filter_scene(hra_api.scene(token=token, ontology_terms=filter_organs), selected_organs)\n",
    "\n",
    "body_ui = BodyUi(scene=scene, height=\"500px\")\n",
    "display(body_ui)"
   ]
  },
  {
   "cell_type": "markdown",
   "metadata": {},
   "source": [
    "Interact with the results in the EUI"
   ]
  },
  {
   "cell_type": "code",
   "execution_count": null,
   "metadata": {},
   "outputs": [],
   "source": [
    "eui = Eui(remote_api_endpoint=hra_api_endpoint_url, data_sources=data_sources, filter=filter, selected_organs=selected_organs)\n",
    "display(eui)"
   ]
  }
 ],
 "metadata": {
  "kernelspec": {
   "display_name": "Python 3 (ipykernel)",
   "language": "python",
   "name": "python3"
  },
  "language_info": {
   "codemirror_mode": {
    "name": "ipython",
    "version": 3
   },
   "file_extension": ".py",
   "mimetype": "text/x-python",
   "name": "python",
   "nbconvert_exporter": "python",
   "pygments_lexer": "ipython3",
   "version": "3.10.12"
  }
 },
 "nbformat": 4,
 "nbformat_minor": 4
}
