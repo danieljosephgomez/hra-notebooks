{
 "cells": [
  {
   "cell_type": "markdown",
   "metadata": {},
   "source": [
    "## HRA Hierarchical Tissue Unit Annotation"
   ]
  },
  {
   "cell_type": "markdown",
   "metadata": {},
   "source": [
    "In this notebook, we will build on [an existing one on hierarchical tissue unit annotation](https://github.com/HickeyLab/Hierarchical-Tissue-Unit-Annotation) by [Dr. John Hickey](https://bme.duke.edu/people/john-hickey/). Concretely, we will take a CSV file with cell positions, types, donor IDs, and extraction sites, and then create a nost-dist-vis widget. For more information and documentation on hra-jupyter-widgets, please see [https://github.com/x-atlas-consortia/hra-jupyter-widgets/blob/main/usage.ipynb](https://github.com/x-atlas-consortia/hra-jupyter-widgets/blob/main/usage.ipynb)."
   ]
  },
  {
   "cell_type": "markdown",
   "metadata": {},
   "source": [
    "## Load libraries"
   ]
  },
  {
   "cell_type": "code",
   "execution_count": null,
   "metadata": {},
   "outputs": [],
   "source": [
    "# Import native packages\n",
    "import time\n",
    "import sys\n",
    "import math\n",
    "import os"
   ]
  },
  {
   "cell_type": "code",
   "execution_count": null,
   "metadata": {},
   "outputs": [],
   "source": [
    "#Install and import external packages\n",
    "%pip install matplotlib\n",
    "import matplotlib.pyplot as plt\n",
    "\n",
    "%pip install pandas\n",
    "import pandas as pd\n",
    "\n",
    "%pip install seaborn\n",
    "import seaborn as sns\n",
    "\n",
    "%pip install numpy\n",
    "import numpy as np\n",
    "\n",
    "%pip install -U scikit-learn\n",
    "from sklearn.neighbors import NearestNeighbors\n",
    "from sklearn.cluster import MiniBatchKMeans\n",
    "from sklearn.cluster import KMeans\n",
    "\n",
    "%pip install ipywidgets\n",
    "import ipywidgets as widgets"
   ]
  },
  {
   "cell_type": "code",
   "execution_count": null,
   "metadata": {},
   "outputs": [],
   "source": [
    "# Import hra-jupyter-widgets. For documentation, please see https://github.com/x-atlas-consortia/hra-jupyter-widgets/blob/main/usage.ipynb\n",
    "%pip install hra_jupyter_widgets\n",
    "from hra_jupyter_widgets import (\n",
    "    BodyUi,\n",
    "    CdeVisualization,\n",
    "    Eui,\n",
    "    EuiOrganInformation,\n",
    "    FtuExplorer,\n",
    "    FtuExplorerSmall,\n",
    "    MedicalIllustration,\n",
    "    ModelViewer,\n",
    "    NodeDistVis,\n",
    "    Rui,\n",
    ")"
   ]
  },
  {
   "cell_type": "markdown",
   "metadata": {},
   "source": [
    "## Download data from Dryad"
   ]
  },
  {
   "cell_type": "code",
   "execution_count": null,
   "metadata": {},
   "outputs": [],
   "source": [
    "#  I tried using curl to download the CSV file from Dryad, but I got a 403 response (forbidden). So I downloaded the file manually via the browser from https://datadryad.org/stash/downloads/file_stream/2572152. Sicne it is 2.91 GB big, I added it to gitignore.\n",
    "!curl -L https://datadryad.org/stash/downloads/file_stream/2572152 -o 23_09_CODEX_HuBMAP_alldata_Dryad_merged.csv"
   ]
  },
  {
   "cell_type": "markdown",
   "metadata": {},
   "source": [
    "## Read data as DataFrame"
   ]
  },
  {
   "cell_type": "code",
   "execution_count": null,
   "metadata": {},
   "outputs": [],
   "source": [
    "# Read the CSV file and convert it to a df\n",
    "df = pd.read_csv('data/23_09_CODEX_HuBMAP_alldata_Dryad_merged.csv', index_col=0)\n",
    "df"
   ]
  },
  {
   "cell_type": "code",
   "execution_count": null,
   "metadata": {},
   "outputs": [],
   "source": [
    "# Only keep cells from one dataset by selecting 1 donor and 1 region\n",
    "df_filtered = df[(df['donor'] == \"B004\") & (\n",
    "    df['unique_region'] == \"B004_Ascending\")]"
   ]
  },
  {
   "cell_type": "code",
   "execution_count": null,
   "metadata": {},
   "outputs": [],
   "source": [
    "# Make new df with only x, y, and Cell Type columns (needed for node-dist-vis)\n",
    "df_cells = df_filtered[['x', 'y', 'Cell Type']]\n",
    "df_cells"
   ]
  },
  {
   "cell_type": "code",
   "execution_count": null,
   "metadata": {},
   "outputs": [],
   "source": [
    "# Next, let's define a function that turns a DataFrame into a node list that can then be passed into the CdeVisualization or NodeDistVis widget\n",
    "def make_node_list(df:pd.DataFrame, is_3d:bool = False):\n",
    "  \"\"\"Turn a DataFrame into a list of dicts for passing them into a HRA widget\n",
    "\n",
    "  Args:\n",
    "      df (pd.DataFrame): A DataFrame with cells\n",
    "  \"\"\"\n",
    "  if not is_3d:\n",
    "    df.loc[:, 'z'] = 0\n",
    "  \n",
    "  node_list = [{'x': row['x'], 'y': row['y'], 'z': row['z'], 'Cell Type': row['Cell Type']}\n",
    "                 for index, row in df.iterrows()]\n",
    "\n",
    "  return node_list\n",
    "  "
   ]
  },
  {
   "cell_type": "code",
   "execution_count": null,
   "metadata": {},
   "outputs": [],
   "source": [
    "# Prepare df_cells for visualization with NodeDistVis widget\n",
    "node_list = make_node_list(df_cells, False)\n",
    "node_list"
   ]
  },
  {
   "cell_type": "code",
   "execution_count": null,
   "metadata": {},
   "outputs": [],
   "source": [
    "# Finally, let's instantiate the NodeDistVis class with some parameters. We pass in the node_list, indicate Endothelial cells as targets for the edges. \n",
    "# As we are not supplying an edge list, we need to provide a max_edge_distance, which is set to 1000 (generiously)\n",
    "\n",
    "node_dist_vis = NodeDistVis(\n",
    "    nodes = node_list,\n",
    "    node_target_key=\"Cell Type\",\n",
    "    node_target_value=\"Endothelial\",\n",
    "    max_edge_distance = 1000\n",
    ")\n",
    "\n",
    "# Display our new widget\n",
    "display(node_dist_vis)"
   ]
  },
  {
   "cell_type": "markdown",
   "metadata": {},
   "source": [
    "## Next, let's get all regions and make a 3D tissue stack."
   ]
  },
  {
   "cell_type": "code",
   "execution_count": null,
   "metadata": {},
   "outputs": [],
   "source": [
    "# Only keep cells from one dataset by selecting 1 donor and 3 regions\n",
    "df_filtered_3d = df[(df['donor'] == \"B004\") & (\n",
    "    df['unique_region'] == 'B004_Descending') | (df['unique_region'] == 'B004_Ascending') | (df['unique_region'] == 'B004_Transverse')]"
   ]
  },
  {
   "cell_type": "code",
   "execution_count": null,
   "metadata": {},
   "outputs": [],
   "source": [
    "# Set a z-offset\n",
    "offset = 1000\n",
    "\n",
    "# Set z axis (or any other axis) by region\n",
    "df_filtered_3d['z'] = df_filtered_3d['unique_region'].apply(lambda v: 0 if v == 'B004_Descending' \n",
    "                                                            else offset if v == 'B004_Ascending'\n",
    "                                                            else offset * 2)\n",
    "\n",
    "# Make new df with only x, y, z, and Cell Type columns\n",
    "df_cells_3d = df_filtered_3d[['x', 'y', 'z','Cell Type']]\n",
    "df_cells_3d"
   ]
  },
  {
   "cell_type": "code",
   "execution_count": null,
   "metadata": {},
   "outputs": [],
   "source": [
    "# Prepare df_cells_3d for visualization with CdeVisualization widget\n",
    "node_list = make_node_list(df_cells_3d, True)\n",
    "node_list"
   ]
  },
  {
   "cell_type": "code",
   "execution_count": null,
   "metadata": {},
   "outputs": [],
   "source": [
    "# Finally, let's instantiate the NodeDistVis class with some parameters. We pass in the node_list, indicate Endothelial cells as targets for the edges.\n",
    "# As we are not supplying an edge list, we need to provide a max_edge_distance, which is set to 1000 (generiously)\n",
    "cde = CdeVisualization(\n",
    "    nodes=node_list\n",
    ")\n",
    "\n",
    "# Display our new widget\n",
    "display(cde)"
   ]
  }
 ],
 "metadata": {
  "kernelspec": {
   "display_name": ".venv",
   "language": "python",
   "name": "python3"
  },
  "language_info": {
   "codemirror_mode": {
    "name": "ipython",
    "version": 3
   },
   "file_extension": ".py",
   "mimetype": "text/x-python",
   "name": "python",
   "nbconvert_exporter": "python",
   "pygments_lexer": "ipython3",
   "version": "3.12.4"
  }
 },
 "nbformat": 4,
 "nbformat_minor": 2
}
